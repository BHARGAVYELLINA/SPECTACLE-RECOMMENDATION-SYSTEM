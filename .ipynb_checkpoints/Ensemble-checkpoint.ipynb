{
 "cells": [
  {
   "cell_type": "code",
   "execution_count": 3,
   "metadata": {},
   "outputs": [],
   "source": [
    "from PIL import Image\n",
    "import dlib\n",
    "import cv2\n",
    "import os\n",
    "import numpy as np\n",
    "import pickle\n",
    "from sklearn.neighbors import KNeighborsClassifier\n",
    "from sklearn.model_selection import train_test_split\n",
    "from sklearn.metrics import accuracy_score, confusion_matrix, precision_score, recall_score, f1_score, roc_curve, auc, classification_report\n",
    "from sklearn.model_selection import GridSearchCV\n",
    "from sklearn.preprocessing import label_binarize\n",
    "from sklearn.preprocessing import LabelEncoder, StandardScaler, OneHotEncoder\n",
    "from sklearn import neighbors\n",
    "import matplotlib.pyplot as plt\n",
    "import seaborn as sns\n",
    "import joblib\n",
    "from keras.models import load_model  # TensorFlow is required for Keras to work\n",
    "from PIL import Image, ImageOps  # Install pillow instead of PIL\n",
    "import numpy as np"
   ]
  },
  {
   "cell_type": "code",
   "execution_count": 4,
   "metadata": {},
   "outputs": [],
   "source": [
    "predictor = dlib.shape_predictor(\"shape_predictor_68_face_landmarks.dat\")\n",
    "detector = dlib.get_frontal_face_detector()"
   ]
  },
  {
   "cell_type": "code",
   "execution_count": 5,
   "metadata": {},
   "outputs": [],
   "source": [
    "# Replace this with the path to your image file with the appropriate extension (e.g., .jpg, .png)\n",
    "image_path=r\"C:\\Users\\Bhargav\\Downloads\\glass shape recommender\\FaceShape_Training_Set\\oblong (509).jpg\"\n",
    "image = Image.open(r\"C:\\Users\\Bhargav\\Downloads\\glass shape recommender\\FaceShape_Training_Set\\oblong (509).jpg\").convert(\"RGB\")"
   ]
  },
  {
   "cell_type": "markdown",
   "metadata": {},
   "source": [
    "1st SNN"
   ]
  },
  {
   "cell_type": "code",
   "execution_count": 6,
   "metadata": {},
   "outputs": [
    {
     "name": "stdout",
     "output_type": "stream",
     "text": [
      "1/1 [==============================] - 2s 2s/step\n",
      "Class: Oblong\n",
      "Confidence Score: 0.9999995\n"
     ]
    }
   ],
   "source": [
    "# Disable scientific notation for clarity \n",
    "np.set_printoptions(suppress=True)\n",
    "\n",
    "from tensorflow.keras.models import load_model\n",
    "  \n",
    "# Load the model\n",
    "model = load_model(\n",
    "    r\"converted_keras\\keras_model.h5\", compile=False)\n",
    "\n",
    "# Load the labels\n",
    "with open(r\"converted_keras\\labels.txt\", \"r\") as file:\n",
    "    class_names = file.readlines()\n",
    "\n",
    "\n",
    "# Create the array of the right shape to feed into the keras model\n",
    "# The 'length' or number of images you can put into the array is\n",
    "# determined by the first position in the shape tuple, in this case 1\n",
    "\n",
    "data = np.ndarray(shape=(1, 224, 224, 3), dtype=np.float32)\n",
    "\n",
    "from PIL import Image\n",
    "\n",
    "# resizing the image to be at least 224x224 and then cropping from the center\n",
    "size = (224, 224)\n",
    "image = ImageOps.fit(image, size, Image.Resampling.LANCZOS)\n",
    "\n",
    "# turn the image into a numpy array\n",
    "image_array = np.asarray(image)\n",
    "\n",
    "# Normalize the image\n",
    "normalized_image_array = (image_array.astype(np.float32) / 127.5) - 1\n",
    "\n",
    "# Load the image into the array\n",
    "data[0] = normalized_image_array\n",
    "\n",
    "# Predicts the model\n",
    "prediction = model.predict(data)\n",
    "index = np.argmax(prediction)\n",
    "class_name = class_names[index]\n",
    "confidence_score = prediction[0][index]\n",
    "\n",
    "# Print prediction and confidence score\n",
    "print(\"Class:\", class_name[2:], end=\"\")\n",
    "print(\"Confidence Score:\", confidence_score)"
   ]
  },
  {
   "cell_type": "markdown",
   "metadata": {},
   "source": [
    "2nd CNN"
   ]
  },
  {
   "cell_type": "code",
   "execution_count": null,
   "metadata": {},
   "outputs": [],
   "source": []
  },
  {
   "cell_type": "markdown",
   "metadata": {},
   "source": [
    "3rd KNN"
   ]
  },
  {
   "cell_type": "code",
   "execution_count": 7,
   "metadata": {},
   "outputs": [],
   "source": [
    "knn_model_file = \"knn/knn_best_model.pkl\"\n",
    "best_model = joblib.load(knn_model_file)"
   ]
  },
  {
   "cell_type": "code",
   "execution_count": 8,
   "metadata": {},
   "outputs": [],
   "source": [
    "def extract_landmark_features(image_path):\n",
    "    global noisy_datapoints\n",
    "\n",
    "    landmark_features = []\n",
    "\n",
    "    image = cv2.imread(image_path)\n",
    "    image = cv2.resize(image, (500, 500))\n",
    "    gray = cv2.cvtColor(image, cv2.COLOR_BGR2GRAY)\n",
    "\n",
    "    faces = detector(gray)\n",
    "\n",
    "    if len(faces) != 1:\n",
    "        noisy_datapoints += 1\n",
    "        return None\n",
    "\n",
    "    for face in faces:\n",
    "        landmarks = predictor(gray, face)\n",
    "\n",
    "        for n in range(0, 68):\n",
    "            x = landmarks.part(n).x\n",
    "            y = landmarks.part(n).y\n",
    "\n",
    "            cv2.circle(gray, (x, y), 2, (0, 255, 0), -1)\n",
    "            landmark_features.append((x, y))\n",
    "\n",
    "    return landmark_features"
   ]
  },
  {
   "cell_type": "code",
   "execution_count": 9,
   "metadata": {},
   "outputs": [],
   "source": [
    "# print(\"yes\")\n",
    "# x_image_paths = []\n",
    "# print(\"1\")\n",
    "# test_path = \"KNN/FaceShape_testing\"\n",
    "# print(\"2\")\n",
    "# for root, dirs, files in os.walk(test_path):\n",
    "#     print(\"3\")\n",
    "#     for file in files:\n",
    "#         print(file)\n",
    "#         if file.endswith(\".jpg\") or file.endswith(\".jpeg\"):\n",
    "#             label = file.split(\" \")[0]\n",
    "#             x_image_paths.append(os.path.join(root, file))\n",
    "# x_predict = []\n",
    "# y_labels = []\n",
    "# for path in x_image_paths:\n",
    "#     facepoints = extract_landmark_features(path)\n",
    "#     if facepoints is None:\n",
    "#         continue\n",
    "#     x_predict.append(facepoints)\n",
    "#     y_labels.append(path.split(\"\\\\\")[1].split(\".\")[0])\n",
    "\n",
    "# x_predict = np.array(x_predict)\n",
    "# n_samples, n_landmarks, n_coordinates = x_predict.shape\n",
    "# x_predict = x_predict.reshape(n_samples, n_landmarks * n_coordinates)\n",
    "\n",
    "# x_predict = np.array(x_predict)\n",
    "# y_predicted = best_model.predict(x_predict)\n",
    "# y_predicted_proba = best_model.predict_proba(x_predict)\n",
    "\n",
    "# for label, predict, prob in zip(y_labels, y_predicted, y_predicted_proba):\n",
    "#     print(f\"{label}: {predict} (Confidence: {prob.max():.2f})\")"
   ]
  },
  {
   "cell_type": "code",
   "execution_count": 12,
   "metadata": {},
   "outputs": [
    {
     "name": "stdout",
     "output_type": "stream",
     "text": [
      "entered\n",
      "C:\\Users\\Bhargav\\Downloads\\glass shape recommender\\FaceShape_Training_Set\\oblong (509).jpg\n",
      "ok\n"
     ]
    }
   ],
   "source": [
    "print(\"entered\")\n",
    "x_predict = []\n",
    "print(image_path)\n",
    "image=cv2.imread(image_path)\n",
    "cv2.imshow(\"image\", image)\n",
    "cv2.waitKey(0)\n",
    "cv2.destroyAllWindows()\n",
    "facepoints = extract_landmark_features(image_path)\n",
    "# if facepoints is None:\n",
    "#     print(\"None\")\n",
    "# x_predict.append(facepoints)\n",
    "\n",
    "# x_predict = np.array(x_predict)\n",
    "# n_samples, n_landmarks, n_coordinates = x_predict.shape\n",
    "# x_predict = x_predict.reshape(n_samples, n_landmarks * n_coordinates)\n",
    "# x_predict = np.array(x_predict)\n",
    "# y_predicted = best_model.predict(x_predict)\n",
    "# y_predicted_proba = best_model.predict_proba(x_predict)\n",
    "\n",
    "# print(y_predicted)\n",
    "# print(y_predicted_proba)\n",
    "print(\"ok\")"
   ]
  },
  {
   "cell_type": "markdown",
   "metadata": {},
   "source": [
    "4th SVM"
   ]
  },
  {
   "cell_type": "code",
   "execution_count": null,
   "metadata": {},
   "outputs": [],
   "source": []
  }
 ],
 "metadata": {
  "kernelspec": {
   "display_name": "Python 3",
   "language": "python",
   "name": "python3"
  },
  "language_info": {
   "codemirror_mode": {
    "name": "ipython",
    "version": 3
   },
   "file_extension": ".py",
   "mimetype": "text/x-python",
   "name": "python",
   "nbconvert_exporter": "python",
   "pygments_lexer": "ipython3",
   "version": "3.11.4"
  }
 },
 "nbformat": 4,
 "nbformat_minor": 2
}
